{
 "cells": [
  {
   "cell_type": "markdown",
   "id": "803da5e2-48a5-4a4a-a918-0d05388aaa15",
   "metadata": {},
   "source": [
    "# Chart example\n",
    "Very simple example drawing a chart"
   ]
  },
  {
   "cell_type": "code",
   "execution_count": 1,
   "id": "b25dd2bb-ce19-4964-97cc-877789edfbfe",
   "metadata": {},
   "outputs": [
   ],
   "source": [
    "from matplotlib import pyplot as plt\n",
    "import numpy as np\n",
    "\n",
    "# Generate 100 circles\n",
    "# x, y and radius are random\n",
    "x, y, radius = np.random.randn(3, 100)\n",
    "fig, ax = plt.subplots()\n",
    "\n",
    "# Map each onto a scatterplot we'll create with Matplotlib\n",
    "ax.scatter(x=x, y=y, c=radius, s=np.abs(radius)*500)\n",
    "ax.set(title=\"100 of random circles\")\n",
    "plt.show()"
   ]
  }
 ],
 "metadata": {
  "kernelspec": {
   "display_name": "Python 3 (ipykernel)",
   "language": "python",
   "name": "python3"
  },
  "language_info": {
   "codemirror_mode": {
    "name": "ipython",
    "version": 3
   },
   "file_extension": ".py",
   "mimetype": "text/x-python",
   "name": "python",
   "nbconvert_exporter": "python",
   "pygments_lexer": "ipython3",
   "version": "3.10.12"
  }
 },
 "nbformat": 4,
 "nbformat_minor": 5
}
